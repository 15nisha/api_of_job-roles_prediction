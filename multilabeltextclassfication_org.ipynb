{
  "nbformat": 4,
  "nbformat_minor": 0,
  "metadata": {
    "colab": {
      "name": "multilabeltextclassfication_org.ipynb",
      "provenance": [],
      "collapsed_sections": [],
      "include_colab_link": true
    },
    "kernelspec": {
      "display_name": "Python 3",
      "language": "python",
      "name": "python3"
    },
    "language_info": {
      "codemirror_mode": {
        "name": "ipython",
        "version": 3
      },
      "file_extension": ".py",
      "mimetype": "text/x-python",
      "name": "python",
      "nbconvert_exporter": "python",
      "pygments_lexer": "ipython3",
      "version": "3.7.10"
    }
  },
  "cells": [
    {
      "cell_type": "markdown",
      "metadata": {
        "id": "view-in-github",
        "colab_type": "text"
      },
      "source": [
        "<a href=\"https://colab.research.google.com/github/15nisha/api_of_job-roles_prediction/blob/main/multilabeltextclassfication_org.ipynb\" target=\"_parent\"><img src=\"https://colab.research.google.com/assets/colab-badge.svg\" alt=\"Open In Colab\"/></a>"
      ]
    },
    {
      "cell_type": "code",
      "metadata": {
        "id": "IdoEQgGWexa-"
      },
      "source": [
        "# This Python 3 environment comes with many helpful analytics libraries installed\n",
        "# It is defined by the kaggle/python Docker image: https://github.com/kaggle/docker-python\n",
        "# For example, here's several helpful packages to load\n",
        "\n",
        "import numpy as np # linear algebra\n",
        "import pandas as pd # data processing, CSV file I/O (e.g. pd.read_csv)\n",
        "import joblib\n",
        "\n",
        "# Input data files are available in the read-only \"../input/\" directory\n",
        "# For example, running this (by clicking run or pressing Shift+Enter) will list all files under the input directory\n",
        "\n",
        "import os\n",
        "for dirname, _, filenames in os.walk('/kaggle/input'):\n",
        "    for filename in filenames:\n",
        "        print(os.path.join(dirname, filename))\n",
        "\n",
        "# You can write up to 20GB to the current directory (/kaggle/working/) that gets preserved as output when you create a version using \"Save & Run All\" \n",
        "# You can also write temporary files to /kaggle/temp/, but they won't be saved outside of the current session"
      ],
      "execution_count": null,
      "outputs": []
    },
    {
      "cell_type": "code",
      "metadata": {
        "id": "Ikgq6ayBexbQ"
      },
      "source": [
        "import seaborn as sns\n",
        "import matplotlib.pyplot as plt\n",
        "sns.set_style(\"whitegrid\")\n",
        "import warnings\n",
        "warnings.filterwarnings('ignore')"
      ],
      "execution_count": null,
      "outputs": []
    },
    {
      "cell_type": "code",
      "metadata": {
        "id": "kdNdOKdtfAlo"
      },
      "source": [
        ""
      ],
      "execution_count": null,
      "outputs": []
    },
    {
      "cell_type": "code",
      "metadata": {
        "colab": {
          "base_uri": "https://localhost:8080/"
        },
        "id": "-U9YRo8KfB7W",
        "outputId": "39e06e91-9340-4783-e102-5b51b9c088f8"
      },
      "source": [
        "from google.colab import drive\n",
        "drive.mount('/content/drive')"
      ],
      "execution_count": null,
      "outputs": [
        {
          "output_type": "stream",
          "name": "stdout",
          "text": [
            "Drive already mounted at /content/drive; to attempt to forcibly remount, call drive.mount(\"/content/drive\", force_remount=True).\n"
          ]
        }
      ]
    },
    {
      "cell_type": "code",
      "metadata": {
        "id": "_SJDTCYfexbS"
      },
      "source": [
        "csv_data = pd.read_csv(\"/content/drive/MyDrive/model testing/transportation_logistics.csv\")"
      ],
      "execution_count": null,
      "outputs": []
    },
    {
      "cell_type": "code",
      "metadata": {
        "id": "FIvsaPOaexbT",
        "colab": {
          "base_uri": "https://localhost:8080/",
          "height": 487
        },
        "outputId": "aaa7d6b0-bf7f-43ad-b85f-8fcfa3a784ac"
      },
      "source": [
        "# json_data.head()\n",
        "csv_data.head()"
      ],
      "execution_count": null,
      "outputs": [
        {
          "output_type": "execute_result",
          "data": {
            "text/html": [
              "<div>\n",
              "<style scoped>\n",
              "    .dataframe tbody tr th:only-of-type {\n",
              "        vertical-align: middle;\n",
              "    }\n",
              "\n",
              "    .dataframe tbody tr th {\n",
              "        vertical-align: top;\n",
              "    }\n",
              "\n",
              "    .dataframe thead th {\n",
              "        text-align: right;\n",
              "    }\n",
              "</style>\n",
              "<table border=\"1\" class=\"dataframe\">\n",
              "  <thead>\n",
              "    <tr style=\"text-align: right;\">\n",
              "      <th></th>\n",
              "      <th>jobs/search_query</th>\n",
              "      <th>jobs/rank_on_page</th>\n",
              "      <th>jobs/job_title_by_google</th>\n",
              "      <th>jobs/job_organization_by_google</th>\n",
              "      <th>jobs/job_city_by_google</th>\n",
              "      <th>jobs/website_by_google</th>\n",
              "      <th>jobs/posted_time_string</th>\n",
              "      <th>jobs/posted_date_by_google</th>\n",
              "      <th>jobs/scraped_date</th>\n",
              "      <th>jobs/desc</th>\n",
              "    </tr>\n",
              "  </thead>\n",
              "  <tbody>\n",
              "    <tr>\n",
              "      <th>0</th>\n",
              "      <td>Air Cargo Ground Crew Supervisor  jobs in usa</td>\n",
              "      <td>1</td>\n",
              "      <td>Ground Operations Supervisor</td>\n",
              "      <td>National Airlines</td>\n",
              "      <td>Orlando, FL</td>\n",
              "      <td>via Jobs</td>\n",
              "      <td>6 days ago</td>\n",
              "      <td>2021-11-19 14:50:26</td>\n",
              "      <td>2021-11-25 14:50:26</td>\n",
              "      <td>No Information Found</td>\n",
              "    </tr>\n",
              "    <tr>\n",
              "      <th>1</th>\n",
              "      <td>Air Cargo Ground Crew Supervisor  jobs in usa</td>\n",
              "      <td>2</td>\n",
              "      <td>Airline - Ground Handling Manager</td>\n",
              "      <td>Ameriflight, LLC</td>\n",
              "      <td>Spokane, WA</td>\n",
              "      <td>via Learn4Good.com</td>\n",
              "      <td>6 days ago</td>\n",
              "      <td>2021-11-19 14:50:37</td>\n",
              "      <td>2021-11-25 14:50:37</td>\n",
              "      <td>Must have excellent management and communicati...</td>\n",
              "    </tr>\n",
              "    <tr>\n",
              "      <th>2</th>\n",
              "      <td>Air Cargo Ground Crew Supervisor  jobs in usa</td>\n",
              "      <td>3</td>\n",
              "      <td>Ramp Agent / Ground Service Agent Supervisor</td>\n",
              "      <td>dnata</td>\n",
              "      <td>Boston, MA</td>\n",
              "      <td>via Dnata - ICIMS</td>\n",
              "      <td>Over 1 month ago</td>\n",
              "      <td>2021-10-25 14:50:38</td>\n",
              "      <td>2021-11-25 14:50:38</td>\n",
              "      <td>No Information Found</td>\n",
              "    </tr>\n",
              "    <tr>\n",
              "      <th>3</th>\n",
              "      <td>Air Cargo Ground Crew Supervisor  jobs in usa</td>\n",
              "      <td>4</td>\n",
              "      <td>British Airways Supervisor Ramp Services - $20...</td>\n",
              "      <td>Swissport</td>\n",
              "      <td>Denver, CO</td>\n",
              "      <td>via LinkedIn</td>\n",
              "      <td>3 days ago</td>\n",
              "      <td>2021-11-22 14:50:49</td>\n",
              "      <td>2021-11-25 14:50:49</td>\n",
              "      <td>•\\r\\nMust possess strong organizational and mu...</td>\n",
              "    </tr>\n",
              "    <tr>\n",
              "      <th>4</th>\n",
              "      <td>Air Cargo Ground Crew Supervisor  jobs in usa</td>\n",
              "      <td>5</td>\n",
              "      <td>Supervisor On Duty - Overnight</td>\n",
              "      <td>Worldwide Flight Services (WFS)</td>\n",
              "      <td>Los Angeles, CA</td>\n",
              "      <td>via LinkedIn</td>\n",
              "      <td>Over 1 month ago</td>\n",
              "      <td>2021-10-25 14:50:50</td>\n",
              "      <td>2021-11-25 14:50:50</td>\n",
              "      <td>•\\r\\nAttend all meetings and complete all trai...</td>\n",
              "    </tr>\n",
              "  </tbody>\n",
              "</table>\n",
              "</div>"
            ],
            "text/plain": [
              "                               jobs/search_query  ...                                          jobs/desc\n",
              "0  Air Cargo Ground Crew Supervisor  jobs in usa  ...                               No Information Found\n",
              "1  Air Cargo Ground Crew Supervisor  jobs in usa  ...  Must have excellent management and communicati...\n",
              "2  Air Cargo Ground Crew Supervisor  jobs in usa  ...                               No Information Found\n",
              "3  Air Cargo Ground Crew Supervisor  jobs in usa  ...  •\\r\\nMust possess strong organizational and mu...\n",
              "4  Air Cargo Ground Crew Supervisor  jobs in usa  ...  •\\r\\nAttend all meetings and complete all trai...\n",
              "\n",
              "[5 rows x 10 columns]"
            ]
          },
          "metadata": {},
          "execution_count": 14
        }
      ]
    },
    {
      "cell_type": "code",
      "metadata": {
        "id": "m_E0cf8fexbU",
        "colab": {
          "base_uri": "https://localhost:8080/",
          "height": 206
        },
        "outputId": "12e01738-7644-4d6d-f842-a2d0f21f19a1"
      },
      "source": [
        "df = csv_data[[\"jobs/search_query\",\"jobs/job_title_by_google\",\"jobs/desc\"]]\n",
        "df.head()"
      ],
      "execution_count": null,
      "outputs": [
        {
          "output_type": "execute_result",
          "data": {
            "text/html": [
              "<div>\n",
              "<style scoped>\n",
              "    .dataframe tbody tr th:only-of-type {\n",
              "        vertical-align: middle;\n",
              "    }\n",
              "\n",
              "    .dataframe tbody tr th {\n",
              "        vertical-align: top;\n",
              "    }\n",
              "\n",
              "    .dataframe thead th {\n",
              "        text-align: right;\n",
              "    }\n",
              "</style>\n",
              "<table border=\"1\" class=\"dataframe\">\n",
              "  <thead>\n",
              "    <tr style=\"text-align: right;\">\n",
              "      <th></th>\n",
              "      <th>jobs/search_query</th>\n",
              "      <th>jobs/job_title_by_google</th>\n",
              "      <th>jobs/desc</th>\n",
              "    </tr>\n",
              "  </thead>\n",
              "  <tbody>\n",
              "    <tr>\n",
              "      <th>0</th>\n",
              "      <td>Air Cargo Ground Crew Supervisor  jobs in usa</td>\n",
              "      <td>Ground Operations Supervisor</td>\n",
              "      <td>No Information Found</td>\n",
              "    </tr>\n",
              "    <tr>\n",
              "      <th>1</th>\n",
              "      <td>Air Cargo Ground Crew Supervisor  jobs in usa</td>\n",
              "      <td>Airline - Ground Handling Manager</td>\n",
              "      <td>Must have excellent management and communicati...</td>\n",
              "    </tr>\n",
              "    <tr>\n",
              "      <th>2</th>\n",
              "      <td>Air Cargo Ground Crew Supervisor  jobs in usa</td>\n",
              "      <td>Ramp Agent / Ground Service Agent Supervisor</td>\n",
              "      <td>No Information Found</td>\n",
              "    </tr>\n",
              "    <tr>\n",
              "      <th>3</th>\n",
              "      <td>Air Cargo Ground Crew Supervisor  jobs in usa</td>\n",
              "      <td>British Airways Supervisor Ramp Services - $20...</td>\n",
              "      <td>•\\r\\nMust possess strong organizational and mu...</td>\n",
              "    </tr>\n",
              "    <tr>\n",
              "      <th>4</th>\n",
              "      <td>Air Cargo Ground Crew Supervisor  jobs in usa</td>\n",
              "      <td>Supervisor On Duty - Overnight</td>\n",
              "      <td>•\\r\\nAttend all meetings and complete all trai...</td>\n",
              "    </tr>\n",
              "  </tbody>\n",
              "</table>\n",
              "</div>"
            ],
            "text/plain": [
              "                               jobs/search_query  ...                                          jobs/desc\n",
              "0  Air Cargo Ground Crew Supervisor  jobs in usa  ...                               No Information Found\n",
              "1  Air Cargo Ground Crew Supervisor  jobs in usa  ...  Must have excellent management and communicati...\n",
              "2  Air Cargo Ground Crew Supervisor  jobs in usa  ...                               No Information Found\n",
              "3  Air Cargo Ground Crew Supervisor  jobs in usa  ...  •\\r\\nMust possess strong organizational and mu...\n",
              "4  Air Cargo Ground Crew Supervisor  jobs in usa  ...  •\\r\\nAttend all meetings and complete all trai...\n",
              "\n",
              "[5 rows x 3 columns]"
            ]
          },
          "metadata": {},
          "execution_count": 15
        }
      ]
    },
    {
      "cell_type": "code",
      "metadata": {
        "id": "i1LxEUJWexbV"
      },
      "source": [
        "df = df.rename(columns={\n",
        "    \"jobs/search_query\":\"search_query\",\n",
        "    \"jobs/job_title_by_google\" :\"title\",\n",
        "    \"jobs/desc\":\"desc\"\n",
        "})"
      ],
      "execution_count": null,
      "outputs": []
    },
    {
      "cell_type": "code",
      "metadata": {
        "id": "glp69_ZdexbY",
        "colab": {
          "base_uri": "https://localhost:8080/",
          "height": 206
        },
        "outputId": "55579299-8b96-4f17-f5f6-2d3c824c5ebf"
      },
      "source": [
        "df.head()"
      ],
      "execution_count": null,
      "outputs": [
        {
          "output_type": "execute_result",
          "data": {
            "text/html": [
              "<div>\n",
              "<style scoped>\n",
              "    .dataframe tbody tr th:only-of-type {\n",
              "        vertical-align: middle;\n",
              "    }\n",
              "\n",
              "    .dataframe tbody tr th {\n",
              "        vertical-align: top;\n",
              "    }\n",
              "\n",
              "    .dataframe thead th {\n",
              "        text-align: right;\n",
              "    }\n",
              "</style>\n",
              "<table border=\"1\" class=\"dataframe\">\n",
              "  <thead>\n",
              "    <tr style=\"text-align: right;\">\n",
              "      <th></th>\n",
              "      <th>search_query</th>\n",
              "      <th>title</th>\n",
              "      <th>desc</th>\n",
              "    </tr>\n",
              "  </thead>\n",
              "  <tbody>\n",
              "    <tr>\n",
              "      <th>0</th>\n",
              "      <td>Air Cargo Ground Crew Supervisor  jobs in usa</td>\n",
              "      <td>Ground Operations Supervisor</td>\n",
              "      <td>No Information Found</td>\n",
              "    </tr>\n",
              "    <tr>\n",
              "      <th>1</th>\n",
              "      <td>Air Cargo Ground Crew Supervisor  jobs in usa</td>\n",
              "      <td>Airline - Ground Handling Manager</td>\n",
              "      <td>Must have excellent management and communicati...</td>\n",
              "    </tr>\n",
              "    <tr>\n",
              "      <th>2</th>\n",
              "      <td>Air Cargo Ground Crew Supervisor  jobs in usa</td>\n",
              "      <td>Ramp Agent / Ground Service Agent Supervisor</td>\n",
              "      <td>No Information Found</td>\n",
              "    </tr>\n",
              "    <tr>\n",
              "      <th>3</th>\n",
              "      <td>Air Cargo Ground Crew Supervisor  jobs in usa</td>\n",
              "      <td>British Airways Supervisor Ramp Services - $20...</td>\n",
              "      <td>•\\r\\nMust possess strong organizational and mu...</td>\n",
              "    </tr>\n",
              "    <tr>\n",
              "      <th>4</th>\n",
              "      <td>Air Cargo Ground Crew Supervisor  jobs in usa</td>\n",
              "      <td>Supervisor On Duty - Overnight</td>\n",
              "      <td>•\\r\\nAttend all meetings and complete all trai...</td>\n",
              "    </tr>\n",
              "  </tbody>\n",
              "</table>\n",
              "</div>"
            ],
            "text/plain": [
              "                                    search_query  ...                                               desc\n",
              "0  Air Cargo Ground Crew Supervisor  jobs in usa  ...                               No Information Found\n",
              "1  Air Cargo Ground Crew Supervisor  jobs in usa  ...  Must have excellent management and communicati...\n",
              "2  Air Cargo Ground Crew Supervisor  jobs in usa  ...                               No Information Found\n",
              "3  Air Cargo Ground Crew Supervisor  jobs in usa  ...  •\\r\\nMust possess strong organizational and mu...\n",
              "4  Air Cargo Ground Crew Supervisor  jobs in usa  ...  •\\r\\nAttend all meetings and complete all trai...\n",
              "\n",
              "[5 rows x 3 columns]"
            ]
          },
          "metadata": {},
          "execution_count": 17
        }
      ]
    },
    {
      "cell_type": "code",
      "metadata": {
        "id": "YVTmYQynexba"
      },
      "source": [
        "df['job_roles'] = df['search_query'].apply(lambda x : x.split('jobs')[0])"
      ],
      "execution_count": null,
      "outputs": []
    },
    {
      "cell_type": "code",
      "metadata": {
        "id": "ii5l-EqPexbc",
        "colab": {
          "base_uri": "https://localhost:8080/",
          "height": 206
        },
        "outputId": "176f03c8-0792-418b-d820-8399a8a63b21"
      },
      "source": [
        "df.head()"
      ],
      "execution_count": null,
      "outputs": [
        {
          "output_type": "execute_result",
          "data": {
            "text/html": [
              "<div>\n",
              "<style scoped>\n",
              "    .dataframe tbody tr th:only-of-type {\n",
              "        vertical-align: middle;\n",
              "    }\n",
              "\n",
              "    .dataframe tbody tr th {\n",
              "        vertical-align: top;\n",
              "    }\n",
              "\n",
              "    .dataframe thead th {\n",
              "        text-align: right;\n",
              "    }\n",
              "</style>\n",
              "<table border=\"1\" class=\"dataframe\">\n",
              "  <thead>\n",
              "    <tr style=\"text-align: right;\">\n",
              "      <th></th>\n",
              "      <th>search_query</th>\n",
              "      <th>title</th>\n",
              "      <th>desc</th>\n",
              "      <th>job_roles</th>\n",
              "    </tr>\n",
              "  </thead>\n",
              "  <tbody>\n",
              "    <tr>\n",
              "      <th>0</th>\n",
              "      <td>Air Cargo Ground Crew Supervisor  jobs in usa</td>\n",
              "      <td>Ground Operations Supervisor</td>\n",
              "      <td>No Information Found</td>\n",
              "      <td>Air Cargo Ground Crew Supervisor</td>\n",
              "    </tr>\n",
              "    <tr>\n",
              "      <th>1</th>\n",
              "      <td>Air Cargo Ground Crew Supervisor  jobs in usa</td>\n",
              "      <td>Airline - Ground Handling Manager</td>\n",
              "      <td>Must have excellent management and communicati...</td>\n",
              "      <td>Air Cargo Ground Crew Supervisor</td>\n",
              "    </tr>\n",
              "    <tr>\n",
              "      <th>2</th>\n",
              "      <td>Air Cargo Ground Crew Supervisor  jobs in usa</td>\n",
              "      <td>Ramp Agent / Ground Service Agent Supervisor</td>\n",
              "      <td>No Information Found</td>\n",
              "      <td>Air Cargo Ground Crew Supervisor</td>\n",
              "    </tr>\n",
              "    <tr>\n",
              "      <th>3</th>\n",
              "      <td>Air Cargo Ground Crew Supervisor  jobs in usa</td>\n",
              "      <td>British Airways Supervisor Ramp Services - $20...</td>\n",
              "      <td>•\\r\\nMust possess strong organizational and mu...</td>\n",
              "      <td>Air Cargo Ground Crew Supervisor</td>\n",
              "    </tr>\n",
              "    <tr>\n",
              "      <th>4</th>\n",
              "      <td>Air Cargo Ground Crew Supervisor  jobs in usa</td>\n",
              "      <td>Supervisor On Duty - Overnight</td>\n",
              "      <td>•\\r\\nAttend all meetings and complete all trai...</td>\n",
              "      <td>Air Cargo Ground Crew Supervisor</td>\n",
              "    </tr>\n",
              "  </tbody>\n",
              "</table>\n",
              "</div>"
            ],
            "text/plain": [
              "                                    search_query  ...                           job_roles\n",
              "0  Air Cargo Ground Crew Supervisor  jobs in usa  ...  Air Cargo Ground Crew Supervisor  \n",
              "1  Air Cargo Ground Crew Supervisor  jobs in usa  ...  Air Cargo Ground Crew Supervisor  \n",
              "2  Air Cargo Ground Crew Supervisor  jobs in usa  ...  Air Cargo Ground Crew Supervisor  \n",
              "3  Air Cargo Ground Crew Supervisor  jobs in usa  ...  Air Cargo Ground Crew Supervisor  \n",
              "4  Air Cargo Ground Crew Supervisor  jobs in usa  ...  Air Cargo Ground Crew Supervisor  \n",
              "\n",
              "[5 rows x 4 columns]"
            ]
          },
          "metadata": {},
          "execution_count": 19
        }
      ]
    },
    {
      "cell_type": "code",
      "metadata": {
        "id": "MIw3inKBexbd",
        "colab": {
          "base_uri": "https://localhost:8080/",
          "height": 521
        },
        "outputId": "c5dec7f5-68db-4334-f889-34df2f4f1dd0"
      },
      "source": [
        "plt.figure(figsize=(20,5))\n",
        "sns.countplot(df['job_roles'])\n",
        "plt.xticks(rotation=90);"
      ],
      "execution_count": null,
      "outputs": [
        {
          "output_type": "display_data",
          "data": {
            "image/png": "[encoded data removed]",
            "text/plain": [
              "<Figure size 1440x360 with 1 Axes>"
            ]
          },
          "metadata": {}
        }
      ]
    },
    {
      "cell_type": "code",
      "metadata": {
        "id": "OfgNlwS0exbe",
        "colab": {
          "base_uri": "https://localhost:8080/"
        },
        "outputId": "68fb68cb-6a47-41ea-8e20-44e6f0623c09"
      },
      "source": [
        "df.columns"
      ],
      "execution_count": null,
      "outputs": [
        {
          "output_type": "execute_result",
          "data": {
            "text/plain": [
              "Index(['search_query', 'title', 'desc', 'job_roles'], dtype='object')"
            ]
          },
          "metadata": {},
          "execution_count": 21
        }
      ]
    },
    {
      "cell_type": "code",
      "metadata": {
        "id": "Rl_f_ikbexbf"
      },
      "source": [
        "df = df[['job_roles','title','desc']]\n",
        "# df.head()"
      ],
      "execution_count": null,
      "outputs": []
    },
    {
      "cell_type": "code",
      "metadata": {
        "id": "59Z8Mh7Ui9lS"
      },
      "source": [
        "df['desc_title'] = df['desc']+' '+df['title']"
      ],
      "execution_count": null,
      "outputs": []
    },
    {
      "cell_type": "code",
      "metadata": {
        "id": "dZ2IM-SkjIt2",
        "colab": {
          "base_uri": "https://localhost:8080/",
          "height": 293
        },
        "outputId": "3ff214ba-3b96-49f2-df9a-108fa81b9f96"
      },
      "source": [
        "df.head()"
      ],
      "execution_count": null,
      "outputs": [
        {
          "output_type": "execute_result",
          "data": {
            "text/html": [
              "<div>\n",
              "<style scoped>\n",
              "    .dataframe tbody tr th:only-of-type {\n",
              "        vertical-align: middle;\n",
              "    }\n",
              "\n",
              "    .dataframe tbody tr th {\n",
              "        vertical-align: top;\n",
              "    }\n",
              "\n",
              "    .dataframe thead th {\n",
              "        text-align: right;\n",
              "    }\n",
              "</style>\n",
              "<table border=\"1\" class=\"dataframe\">\n",
              "  <thead>\n",
              "    <tr style=\"text-align: right;\">\n",
              "      <th></th>\n",
              "      <th>job_roles</th>\n",
              "      <th>title</th>\n",
              "      <th>desc</th>\n",
              "      <th>desc_title</th>\n",
              "    </tr>\n",
              "  </thead>\n",
              "  <tbody>\n",
              "    <tr>\n",
              "      <th>0</th>\n",
              "      <td>Air Cargo Ground Crew Supervisor</td>\n",
              "      <td>Ground Operations Supervisor</td>\n",
              "      <td>No Information Found</td>\n",
              "      <td>No Information Found Ground Operations Supervisor</td>\n",
              "    </tr>\n",
              "    <tr>\n",
              "      <th>1</th>\n",
              "      <td>Air Cargo Ground Crew Supervisor</td>\n",
              "      <td>Airline - Ground Handling Manager</td>\n",
              "      <td>Must have excellent management and communicati...</td>\n",
              "      <td>Must have excellent management and communicati...</td>\n",
              "    </tr>\n",
              "    <tr>\n",
              "      <th>2</th>\n",
              "      <td>Air Cargo Ground Crew Supervisor</td>\n",
              "      <td>Ramp Agent / Ground Service Agent Supervisor</td>\n",
              "      <td>No Information Found</td>\n",
              "      <td>No Information Found Ramp Agent / Ground Servi...</td>\n",
              "    </tr>\n",
              "    <tr>\n",
              "      <th>3</th>\n",
              "      <td>Air Cargo Ground Crew Supervisor</td>\n",
              "      <td>British Airways Supervisor Ramp Services - $20...</td>\n",
              "      <td>•\\r\\nMust possess strong organizational and mu...</td>\n",
              "      <td>•\\r\\nMust possess strong organizational and mu...</td>\n",
              "    </tr>\n",
              "    <tr>\n",
              "      <th>4</th>\n",
              "      <td>Air Cargo Ground Crew Supervisor</td>\n",
              "      <td>Supervisor On Duty - Overnight</td>\n",
              "      <td>•\\r\\nAttend all meetings and complete all trai...</td>\n",
              "      <td>•\\r\\nAttend all meetings and complete all trai...</td>\n",
              "    </tr>\n",
              "  </tbody>\n",
              "</table>\n",
              "</div>"
            ],
            "text/plain": [
              "                            job_roles  ...                                         desc_title\n",
              "0  Air Cargo Ground Crew Supervisor    ...  No Information Found Ground Operations Supervisor\n",
              "1  Air Cargo Ground Crew Supervisor    ...  Must have excellent management and communicati...\n",
              "2  Air Cargo Ground Crew Supervisor    ...  No Information Found Ramp Agent / Ground Servi...\n",
              "3  Air Cargo Ground Crew Supervisor    ...  •\\r\\nMust possess strong organizational and mu...\n",
              "4  Air Cargo Ground Crew Supervisor    ...  •\\r\\nAttend all meetings and complete all trai...\n",
              "\n",
              "[5 rows x 4 columns]"
            ]
          },
          "metadata": {},
          "execution_count": 24
        }
      ]
    },
    {
      "cell_type": "code",
      "metadata": {
        "id": "CLCa37l9exbg",
        "colab": {
          "base_uri": "https://localhost:8080/"
        },
        "outputId": "89a39aa7-04c4-460a-e55b-55b9230470e7"
      },
      "source": [
        "df['job_roles'].unique()"
      ],
      "execution_count": null,
      "outputs": [
        {
          "output_type": "execute_result",
          "data": {
            "text/plain": [
              "array(['Air Cargo Ground Crew Supervisor  ', 'Pizza Delivery Driver ',\n",
              "       'Cement Truck Driver ', 'Garbage Truck Driver',\n",
              "       'Parcel Truck Driver', 'Railcar Switcher', 'Aircraft Inspector ',\n",
              "       'Motor Vehicle Emissions Inspector ', 'Operations Technologist',\n",
              "       'Air Traffic Controller', 'Aircraft Cargo Handling Supervisor',\n",
              "       'Aircraft Mechanic', 'Service Technician',\n",
              "       'Aircraft Service Attendant', 'Airfield Operations Specialist',\n",
              "       'Flight Engineer', 'Ambulance Driver',\n",
              "       'Emergency Medical Technician', 'Automotive Body  Repairer',\n",
              "       'Automotive Master Mechanic', 'Automotive Service Technician',\n",
              "       'Automotive Specialty Technician', 'Aviation Inspector',\n",
              "       'Avionics Technician', 'Bicycle Repairer',\n",
              "       'Billing and Posting Clerk', 'School Bus Driver', 'Pilot',\n",
              "       'Freight Agent', 'Cleaner', 'Dispatcher', 'Repairer',\n",
              "       'Truck Driver', 'Tractor Operator', 'Machine Operator',\n",
              "       'Locomotive Engineer', 'Logistics Analyst',\n",
              "       'Motor Vehicle Operator', 'Motorboat Mechanic',\n",
              "       'Motorboat Operator', 'Motorcycle Mechanic', 'Packer', 'Packager',\n",
              "       'Rail Car Repairer', 'Rail Transportation Worker',\n",
              "       'Railroad Conductor', 'Recreational Vehicle Service Technician',\n",
              "       'Sailors and Marine Oiler', 'Ship and Boat Captain',\n",
              "       'Streetcar Operator', 'Supply Chain Manager', 'Taxi Driver',\n",
              "       'Tire Repairer', 'Traffic Technician', 'Airport Ramp Supervisor ',\n",
              "       'Auto Carrier Driver ', 'Railroad Car Inspector ',\n",
              "       'Airline Pilot ', 'Copilot ', 'Attendant ',\n",
              "       'Automotive Glass Installer ', 'Bus Driver ', 'Commercial Pilot ',\n",
              "       'Locomotive Firer ', 'Mate ', 'Mobile Heavy Equipment Mechanic ',\n",
              "       'Rail Yard Engineers ', 'Railroad Brake ', 'Ship Engineer ',\n",
              "       'Shuttle Driver ', 'Chauffeur ', 'Transportation Manager ',\n",
              "       'Transportation Planner '], dtype=object)"
            ]
          },
          "metadata": {},
          "execution_count": 25
        }
      ]
    },
    {
      "cell_type": "markdown",
      "metadata": {
        "id": "gTP2kWAFexbh"
      },
      "source": [
        "## Text Clearning"
      ]
    },
    {
      "cell_type": "code",
      "metadata": {
        "collapsed": true,
        "id": "ZcehsCPLexbk",
        "colab": {
          "base_uri": "https://localhost:8080/"
        },
        "outputId": "db30532f-9445-44a2-b17e-ad17ef32df83"
      },
      "source": [
        "!pip install clean-text"
      ],
      "execution_count": null,
      "outputs": [
        {
          "output_type": "stream",
          "name": "stdout",
          "text": [
            "Collecting clean-text\n",
            "  Downloading clean_text-0.5.0-py3-none-any.whl (9.8 kB)\n",
            "Collecting emoji\n",
            "  Downloading emoji-1.6.1.tar.gz (170 kB)\n",
            "\u001b[K     |████████████████████████████████| 170 kB 9.3 MB/s \n",
            "\u001b[?25hCollecting ftfy<7.0,>=6.0\n",
            "  Downloading ftfy-6.0.3.tar.gz (64 kB)\n",
            "\u001b[K     |████████████████████████████████| 64 kB 3.4 MB/s \n",
            "\u001b[?25hRequirement already satisfied: wcwidth in /usr/local/lib/python3.7/dist-packages (from ftfy<7.0,>=6.0->clean-text) (0.2.5)\n",
            "Building wheels for collected packages: ftfy, emoji\n",
            "  Building wheel for ftfy (setup.py) ... \u001b[?25l\u001b[?25hdone\n",
            "  Created wheel for ftfy: filename=ftfy-6.0.3-py3-none-any.whl size=41933 sha256=a4b265d67e0d4bafca755d836675574337718b5dddfa4e38c0566fdfc3d749ac\n",
            "  Stored in directory: /root/.cache/pip/wheels/19/f5/38/273eb3b5e76dfd850619312f693716ac4518b498f5ffb6f56d\n",
            "  Building wheel for emoji (setup.py) ... \u001b[?25l\u001b[?25hdone\n",
            "  Created wheel for emoji: filename=emoji-1.6.1-py3-none-any.whl size=169314 sha256=806ce462ab18cf80e0932090c9c94f579d9baae07f7e81d33872026f485b5e03\n",
            "  Stored in directory: /root/.cache/pip/wheels/ea/5f/d3/03d313ddb3c2a1a427bb4690f1621eea60fe6f2a30cc95940f\n",
            "Successfully built ftfy emoji\n",
            "Installing collected packages: ftfy, emoji, clean-text\n",
            "Successfully installed clean-text-0.5.0 emoji-1.6.1 ftfy-6.0.3\n"
          ]
        }
      ]
    },
    {
      "cell_type": "code",
      "metadata": {
        "id": "C7Oo_fRgfhIm",
        "colab": {
          "base_uri": "https://localhost:8080/"
        },
        "outputId": "112b0498-6276-4c60-fe21-b34318934a6f"
      },
      "source": [
        "import nltk\n",
        "from nltk.corpus import stopwords\n",
        "nltk.download('stopwords')"
      ],
      "execution_count": null,
      "outputs": [
        {
          "output_type": "stream",
          "name": "stdout",
          "text": [
            "[nltk_data] Downloading package stopwords to /root/nltk_data...\n",
            "[nltk_data]   Unzipping corpora/stopwords.zip.\n"
          ]
        },
        {
          "output_type": "execute_result",
          "data": {
            "text/plain": [
              "True"
            ]
          },
          "metadata": {},
          "execution_count": 27
        }
      ]
    },
    {
      "cell_type": "code",
      "metadata": {
        "id": "DHKw1CAkexbl"
      },
      "source": [
        "# load stop words\n",
        "stop_word = stopwords.words('english')"
      ],
      "execution_count": null,
      "outputs": []
    },
    {
      "cell_type": "code",
      "metadata": {
        "id": "rzQoqVxLexbn",
        "colab": {
          "base_uri": "https://localhost:8080/"
        },
        "outputId": "1b00d8e7-2886-41a4-f7ad-fbf8cf8667fc"
      },
      "source": [
        "from cleantext import clean\n",
        "import re\n",
        "\n",
        "def textCleaning(text):      \n",
        "                         \n",
        "    #     remove urls\n",
        "    text = re.sub(r'http\\S+', \" \", text)\n",
        "\n",
        "    #     remove mentions\n",
        "    text = re.sub(r'@\\w+',' ',text)\n",
        "\n",
        "    #     remove hastags\n",
        "    text = re.sub(r'#\\w+', ' ', text)\n",
        "    \n",
        "    # take alphanumerical\n",
        "    text = re.sub(r'\\W+', ' ', text)\n",
        "\n",
        "    #     remove digits\n",
        "    text = re.sub(r'\\d+', ' ', text)\n",
        "\n",
        "    #     remove html tags\n",
        "    text = re.sub('r<.*?>',' ', text)\n",
        "    \n",
        "    #     remove stop words \n",
        "    text = text.split()\n",
        "    text = \" \".join([word for word in text if not word in stop_word])    \n",
        "      \n",
        "    \n",
        "    return clean(text,\n",
        "        fix_unicode=True,               # fix various unicode errors\n",
        "        to_ascii=True,                  # transliterate to closest ASCII representation\n",
        "        lower=True,                     # lowercase text\n",
        "        no_line_breaks=False,           # fully strip line breaks as opposed to only normalizing them\n",
        "        no_urls=False,                  # replace all URLs with a special token\n",
        "        no_emails=False,                # replace all email addresses with a special token\n",
        "        no_phone_numbers=False,         # replace all phone numbers with a special token\n",
        "        no_numbers=False,               # replace all numbers with a special token\n",
        "        no_digits=False,                # replace all digits with a special token\n",
        "        no_currency_symbols=False,      # replace all currency symbols with a special token\n",
        "        no_punct=False,                 # remove punctuations\n",
        "        replace_with_punct=\"\",          # instead of removing punctuations you may replace them\n",
        "        replace_with_url=\" \",\n",
        "        replace_with_email=\"<EMAIL>\",\n",
        "        replace_with_phone_number=\"<PHONE>\",\n",
        "        replace_with_number=\"<NUMBER>\",\n",
        "        replace_with_digit=\"0\",\n",
        "        replace_with_currency_symbol=\"<CUR>\",\n",
        "        lang=\"en\"                       # set to 'de' for German special handling\n",
        "    )"
      ],
      "execution_count": null,
      "outputs": [
        {
          "output_type": "stream",
          "name": "stderr",
          "text": [
            "Since the GPL-licensed package `unidecode` is not installed, using Python's `unicodedata` package which yields worse results.\n"
          ]
        }
      ]
    },
    {
      "cell_type": "code",
      "metadata": {
        "collapsed": true,
        "id": "gqn8J7XCexbq",
        "colab": {
          "base_uri": "https://localhost:8080/",
          "height": 140
        },
        "outputId": "4298c6f5-f6fb-4d17-ac55-4cfc04c632f9"
      },
      "source": [
        "data = df['desc'][5]\n",
        "data"
      ],
      "execution_count": null,
      "outputs": [
        {
          "output_type": "execute_result",
          "data": {
            "application/vnd.google.colaboratory.intrinsic+json": {
              "type": "string"
            },
            "text/plain": [
              "\"•\\r\\nSpecial Demands:Ability to travel as needed\\r\\n•\\r\\nSkills:Experienced in Microsoft office software, specifically in data base, spreadsheets and word processing\\r\\n•\\r\\nAbility to manage multiple activities and work with a strong sense of urgency is required\\r\\n4 more items\\r\\n•\\r\\nResponsible for the development and continuous improvement of procedures for the calculation and collection of revenue for import service fees, storage fees and other fees and ensure data in CargoSprint and CargoSpot are accurate\\r\\n•\\r\\nAct as the point of contact for CargoSprint for CVG, give access to CargoSprint to users\\r\\n•\\r\\nTrack and report cargo volumes handled for customers\\r\\n8 more items\\r\\nMore job highlightsOverviewKeep track, monitor and maximize revenue generated at the Polar Air Cargo warehouse near the Cincinnati airport (CVG) and act as the primary point of contact for revenue reconciliation. Review trucking invoices for accuracy and ensure billing is accurate.ResponsibilitiesOversee the daily import and export operations in regards to data entry, document control, and customs reporting.Responsible for the development and continuous improvement of procedures for the calculation and collection of revenue for import service fees, storage fees and other fees and ensure data in CargoSprint and CargoSpot are accurate.Act as the point of contact for CargoSprint for CVG, give access to CargoSprint to users.Track and report cargo volumes handled for customers. Instruct cargo handling vendor on the process related to revenue capture and reporting, to ensure the accurate revenues are captured for the company for billing purposes.Collaborate with Accounting Department to ensure invoices are processed in a timely manner and accurately and resolve any discrepancy between billing and cash receipts.Document process in narrative, required for Sarbanes Oxley, and review it periodically.Advise Station Manager of the work status of any issues or discrepancies, such as labor issues, workflow issues, and government issues that cannot be easily resolved by a supervisor.Partner with Road Feeder Service (RFS) team on invoice reconciliation. Review refuted invoices in Descartes, and work with carriers, local station management, and RFS personnel to reconcile differences between invoice rates and contract rate.Work with Accounts Payable to ensure invoices are updated accordingly for proper payment amount and entered correctly.Review weekly report from a trucking vendor for discrepancies and update Descartes accordingly for chargeable weight, accessorial charges, etc.QualificationsBachelor's degree or equivalent work experience in airfreight operations and reporting3-5 years of experience in airfreight operations and reportingExperience formulating and filing cargo handling reportsKnowledge of CargoSpot or equivalent Cargo Management software requiredCargo handling experience is a plus.Special Demands:Ability to travel as neededSkills:Experienced in Microsoft office software, specifically in data base, spreadsheets and word processing.Ability to manage multiple activities and work with a strong sense of urgency is required.Highly organized individual with emphasis on accuracy and timeliness, who wants to learn and grow.Good initiative and ability to work independently.The individual must have excellent written, verbal and communication skills.Must participate with different groups on projects from concept to completion in a fast paced, time critical environment.The Company is an Equal Opportunity Employer. It is our policy to afford equal employment opportunity to all employees and applicants for employment without regard to race, color, religion, sex, sexual orientation, national origin, citizenship, place of birth, age, disability, protected veteran status, gender identity or any other characteristic or status protected by applicable in accordance with federal, state and local laws.If you'd like more information about your EEO rights as an applicant under the law, please download the available EEO is the Law document at http://www1.Eeoc.Gov/employers/poster.Cfm.To view our Pay Transparency Statement, please click here: Pay Transparency StatementPI150607802\""
            ]
          },
          "metadata": {},
          "execution_count": 30
        }
      ]
    },
    {
      "cell_type": "code",
      "metadata": {
        "collapsed": true,
        "id": "Rh5trXebexbt",
        "colab": {
          "base_uri": "https://localhost:8080/",
          "height": 140
        },
        "outputId": "807c2f49-65e2-449a-b88c-85fe00227ded"
      },
      "source": [
        "textCleaning(data)"
      ],
      "execution_count": null,
      "outputs": [
        {
          "output_type": "execute_result",
          "data": {
            "application/vnd.google.colaboratory.intrinsic+json": {
              "type": "string"
            },
            "text/plain": [
              "'special demands ability travel needed skills experienced microsoft office software specifically data base spreadsheets word processing ability manage multiple activities work strong sense urgency required items responsible development continuous improvement procedures calculation collection revenue import service fees storage fees fees ensure data cargosprint cargospot accurate act point contact cargosprint cvg give access cargosprint users track report cargo volumes handled customers items more job highlightsoverviewkeep track monitor maximize revenue generated polar air cargo warehouse near cincinnati airport cvg act primary point contact revenue reconciliation review trucking invoices accuracy ensure billing accurate responsibilitiesoversee daily import export operations regards data entry document control customs reporting responsible development continuous improvement procedures calculation collection revenue import service fees storage fees fees ensure data cargosprint cargospot accurate act point contact cargosprint cvg give access cargosprint users track report cargo volumes handled customers instruct cargo handling vendor process related revenue capture reporting ensure accurate revenues captured company billing purposes collaborate accounting department ensure invoices processed timely manner accurately resolve discrepancy billing cash receipts document process narrative required sarbanes oxley review periodically advise station manager work status issues discrepancies labor issues workflow issues government issues cannot easily resolved supervisor partner road feeder service rfs team invoice reconciliation review refuted invoices descartes work carriers local station management rfs personnel reconcile differences invoice rates contract rate work accounts payable ensure invoices updated accordingly proper payment amount entered correctly review weekly report trucking vendor discrepancies update descartes accordingly chargeable weight accessorial charges etc qualificationsbachelor degree equivalent work experience airfreight operations reporting years experience airfreight operations reportingexperience formulating filing cargo handling reportsknowledge cargospot equivalent cargo management software requiredcargo handling experience plus special demands ability travel neededskills experienced microsoft office software specifically data base spreadsheets word processing ability manage multiple activities work strong sense urgency required highly organized individual emphasis accuracy timeliness wants learn grow good initiative ability work independently the individual must excellent written verbal communication skills must participate different groups projects concept completion fast paced time critical environment the company equal opportunity employer it policy afford equal employment opportunity employees applicants employment without regard race color religion sex sexual orientation national origin citizenship place birth age disability protected veteran status gender identity characteristic status protected applicable accordance federal state local laws if like information eeo rights applicant law please download available eeo law document view pay transparency statement please click pay transparency statementpi'"
            ]
          },
          "metadata": {},
          "execution_count": 31
        }
      ]
    },
    {
      "cell_type": "code",
      "metadata": {
        "id": "Bauiiawzexbt"
      },
      "source": [
        "df['clean_desc_title'] = df['desc_title'].apply(lambda x: textCleaning(x))"
      ],
      "execution_count": null,
      "outputs": []
    },
    {
      "cell_type": "code",
      "metadata": {
        "id": "gINwZzHmexbu",
        "colab": {
          "base_uri": "https://localhost:8080/",
          "height": 293
        },
        "outputId": "ee096c53-e93e-423b-fbb2-c4945f1f9731"
      },
      "source": [
        "df.head()"
      ],
      "execution_count": null,
      "outputs": [
        {
          "output_type": "execute_result",
          "data": {
            "text/html": [
              "<div>\n",
              "<style scoped>\n",
              "    .dataframe tbody tr th:only-of-type {\n",
              "        vertical-align: middle;\n",
              "    }\n",
              "\n",
              "    .dataframe tbody tr th {\n",
              "        vertical-align: top;\n",
              "    }\n",
              "\n",
              "    .dataframe thead th {\n",
              "        text-align: right;\n",
              "    }\n",
              "</style>\n",
              "<table border=\"1\" class=\"dataframe\">\n",
              "  <thead>\n",
              "    <tr style=\"text-align: right;\">\n",
              "      <th></th>\n",
              "      <th>job_roles</th>\n",
              "      <th>title</th>\n",
              "      <th>desc</th>\n",
              "      <th>desc_title</th>\n",
              "      <th>clean_desc_title</th>\n",
              "    </tr>\n",
              "  </thead>\n",
              "  <tbody>\n",
              "    <tr>\n",
              "      <th>0</th>\n",
              "      <td>Air Cargo Ground Crew Supervisor</td>\n",
              "      <td>Ground Operations Supervisor</td>\n",
              "      <td>No Information Found</td>\n",
              "      <td>No Information Found Ground Operations Supervisor</td>\n",
              "      <td>no information found ground operations supervisor</td>\n",
              "    </tr>\n",
              "    <tr>\n",
              "      <th>1</th>\n",
              "      <td>Air Cargo Ground Crew Supervisor</td>\n",
              "      <td>Airline - Ground Handling Manager</td>\n",
              "      <td>Must have excellent management and communicati...</td>\n",
              "      <td>Must have excellent management and communicati...</td>\n",
              "      <td>must excellent management communication skills...</td>\n",
              "    </tr>\n",
              "    <tr>\n",
              "      <th>2</th>\n",
              "      <td>Air Cargo Ground Crew Supervisor</td>\n",
              "      <td>Ramp Agent / Ground Service Agent Supervisor</td>\n",
              "      <td>No Information Found</td>\n",
              "      <td>No Information Found Ramp Agent / Ground Servi...</td>\n",
              "      <td>no information found ramp agent ground service...</td>\n",
              "    </tr>\n",
              "    <tr>\n",
              "      <th>3</th>\n",
              "      <td>Air Cargo Ground Crew Supervisor</td>\n",
              "      <td>British Airways Supervisor Ramp Services - $20...</td>\n",
              "      <td>•\\r\\nMust possess strong organizational and mu...</td>\n",
              "      <td>•\\r\\nMust possess strong organizational and mu...</td>\n",
              "      <td>must possess strong organizational multi taski...</td>\n",
              "    </tr>\n",
              "    <tr>\n",
              "      <th>4</th>\n",
              "      <td>Air Cargo Ground Crew Supervisor</td>\n",
              "      <td>Supervisor On Duty - Overnight</td>\n",
              "      <td>•\\r\\nAttend all meetings and complete all trai...</td>\n",
              "      <td>•\\r\\nAttend all meetings and complete all trai...</td>\n",
              "      <td>attend meetings complete training certificatio...</td>\n",
              "    </tr>\n",
              "  </tbody>\n",
              "</table>\n",
              "</div>"
            ],
            "text/plain": [
              "                            job_roles  ...                                   clean_desc_title\n",
              "0  Air Cargo Ground Crew Supervisor    ...  no information found ground operations supervisor\n",
              "1  Air Cargo Ground Crew Supervisor    ...  must excellent management communication skills...\n",
              "2  Air Cargo Ground Crew Supervisor    ...  no information found ramp agent ground service...\n",
              "3  Air Cargo Ground Crew Supervisor    ...  must possess strong organizational multi taski...\n",
              "4  Air Cargo Ground Crew Supervisor    ...  attend meetings complete training certificatio...\n",
              "\n",
              "[5 rows x 5 columns]"
            ]
          },
          "metadata": {},
          "execution_count": 33
        }
      ]
    },
    {
      "cell_type": "code",
      "metadata": {
        "id": "b04qct24exbv",
        "colab": {
          "base_uri": "https://localhost:8080/"
        },
        "outputId": "5add1238-92fa-4429-f7e7-13458f027618"
      },
      "source": [
        "df.duplicated().sum()"
      ],
      "execution_count": null,
      "outputs": [
        {
          "output_type": "execute_result",
          "data": {
            "text/plain": [
              "165"
            ]
          },
          "metadata": {},
          "execution_count": 34
        }
      ]
    },
    {
      "cell_type": "code",
      "metadata": {
        "id": "GGkjBx9yexbw",
        "colab": {
          "base_uri": "https://localhost:8080/"
        },
        "outputId": "7626e6e0-eee9-4741-c532-27c613664142"
      },
      "source": [
        "df.shape"
      ],
      "execution_count": null,
      "outputs": [
        {
          "output_type": "execute_result",
          "data": {
            "text/plain": [
              "(1592, 5)"
            ]
          },
          "metadata": {},
          "execution_count": 35
        }
      ]
    },
    {
      "cell_type": "markdown",
      "metadata": {
        "id": "1JHtKYDMexby"
      },
      "source": [
        "# target variable (job_roles) encoding"
      ]
    },
    {
      "cell_type": "code",
      "metadata": {
        "id": "dMmP4k1Eexbz"
      },
      "source": [
        "y = df['job_roles']\n",
        "y = y.values.reshape(-1,1)"
      ],
      "execution_count": null,
      "outputs": []
    },
    {
      "cell_type": "code",
      "metadata": {
        "id": "WITXACPxexbz"
      },
      "source": [
        "# mulitlable encoder\n",
        "from sklearn.preprocessing import MultiLabelBinarizer"
      ],
      "execution_count": null,
      "outputs": []
    },
    {
      "cell_type": "code",
      "metadata": {
        "id": "_EMvnI6Lexb0"
      },
      "source": [
        "mlb = MultiLabelBinarizer()\n",
        "mlb.fit_transform(y)\n",
        "# y_mul = mlb.fit_transform(y)"
      ],
      "execution_count": null,
      "outputs": []
    },
    {
      "cell_type": "code",
      "metadata": {
        "id": "wbIkBK7j9KxE",
        "colab": {
          "base_uri": "https://localhost:8080/"
        },
        "outputId": "7f427ffe-94dc-4e65-d808-3ff92a9f341e"
      },
      "source": [
        "joblib.dump(mlb, 'transportation_class')"
      ],
      "execution_count": null,
      "outputs": [
        {
          "output_type": "execute_result",
          "data": {
            "text/plain": [
              "['transportation_class']"
            ]
          },
          "metadata": {},
          "execution_count": 109
        }
      ]
    },
    {
      "cell_type": "code",
      "metadata": {
        "id": "FHlTVR_G-6dM"
      },
      "source": [
        "# import pickle\n",
        "# filename = 'classes.txt'\n",
        "# pickle.dump(mlb, open(filename, 'wb'))"
      ],
      "execution_count": null,
      "outputs": []
    },
    {
      "cell_type": "code",
      "metadata": {
        "id": "aybdqGRaexb1"
      },
      "source": [
        "# y_mul\n",
        "# len(y_mul)\n",
        "# y_mul[0]"
      ],
      "execution_count": null,
      "outputs": []
    },
    {
      "cell_type": "code",
      "metadata": {
        "id": "ZZawDehXexb2",
        "colab": {
          "base_uri": "https://localhost:8080/"
        },
        "outputId": "7d8f8664-ce29-4bd8-f273-ac521c756a19"
      },
      "source": [
        "mlb.classes_"
      ],
      "execution_count": null,
      "outputs": [
        {
          "output_type": "execute_result",
          "data": {
            "text/plain": [
              "array(['Air Cargo Ground Crew Supervisor  ', 'Air Traffic Controller',\n",
              "       'Aircraft Cargo Handling Supervisor', 'Aircraft Inspector ',\n",
              "       'Aircraft Mechanic', 'Aircraft Service Attendant',\n",
              "       'Airfield Operations Specialist', 'Airline Pilot ',\n",
              "       'Airport Ramp Supervisor ', 'Ambulance Driver', 'Attendant ',\n",
              "       'Auto Carrier Driver ', 'Automotive Body  Repairer',\n",
              "       'Automotive Glass Installer ', 'Automotive Master Mechanic',\n",
              "       'Automotive Service Technician', 'Automotive Specialty Technician',\n",
              "       'Aviation Inspector', 'Avionics Technician', 'Bicycle Repairer',\n",
              "       'Billing and Posting Clerk', 'Bus Driver ', 'Cement Truck Driver ',\n",
              "       'Chauffeur ', 'Cleaner', 'Commercial Pilot ', 'Copilot ',\n",
              "       'Dispatcher', 'Emergency Medical Technician', 'Flight Engineer',\n",
              "       'Freight Agent', 'Garbage Truck Driver', 'Locomotive Engineer',\n",
              "       'Locomotive Firer ', 'Logistics Analyst', 'Machine Operator',\n",
              "       'Mate ', 'Mobile Heavy Equipment Mechanic ',\n",
              "       'Motor Vehicle Emissions Inspector ', 'Motor Vehicle Operator',\n",
              "       'Motorboat Mechanic', 'Motorboat Operator', 'Motorcycle Mechanic',\n",
              "       'Operations Technologist', 'Packager', 'Packer',\n",
              "       'Parcel Truck Driver', 'Pilot', 'Pizza Delivery Driver ',\n",
              "       'Rail Car Repairer', 'Rail Transportation Worker',\n",
              "       'Rail Yard Engineers ', 'Railcar Switcher', 'Railroad Brake ',\n",
              "       'Railroad Car Inspector ', 'Railroad Conductor',\n",
              "       'Recreational Vehicle Service Technician', 'Repairer',\n",
              "       'Sailors and Marine Oiler', 'School Bus Driver',\n",
              "       'Service Technician', 'Ship Engineer ', 'Ship and Boat Captain',\n",
              "       'Shuttle Driver ', 'Streetcar Operator', 'Supply Chain Manager',\n",
              "       'Taxi Driver', 'Tire Repairer', 'Tractor Operator',\n",
              "       'Traffic Technician', 'Transportation Manager ',\n",
              "       'Transportation Planner ', 'Truck Driver'], dtype=object)"
            ]
          },
          "metadata": {},
          "execution_count": 42
        }
      ]
    },
    {
      "cell_type": "markdown",
      "metadata": {
        "id": "SodXTW8rexb2"
      },
      "source": [
        "## Embedding x axis jobs roles"
      ]
    },
    {
      "cell_type": "code",
      "metadata": {
        "id": "_Y9cMmVQexb3",
        "colab": {
          "base_uri": "https://localhost:8080/"
        },
        "outputId": "ded1a664-602c-4fb9-cab0-05f8dc150929"
      },
      "source": [
        "x = df['clean_desc_title']\n",
        "len(x)"
      ],
      "execution_count": null,
      "outputs": [
        {
          "output_type": "execute_result",
          "data": {
            "text/plain": [
              "1592"
            ]
          },
          "metadata": {},
          "execution_count": 43
        }
      ]
    },
    {
      "cell_type": "code",
      "metadata": {
        "id": "WR5lKRIGexb3"
      },
      "source": [
        "from sklearn.model_selection import train_test_split\n",
        "from sklearn.feature_extraction.text import TfidfVectorizer"
      ],
      "execution_count": null,
      "outputs": []
    },
    {
      "cell_type": "code",
      "metadata": {
        "id": "0Vxz0pOlexb4"
      },
      "source": [
        "# tfidf_vectorizer = TfidfVectorizer(max_df=0.8,max_features=100000)"
      ],
      "execution_count": null,
      "outputs": []
    },
    {
      "cell_type": "code",
      "metadata": {
        "id": "Xb4RWczqj8-r"
      },
      "source": [
        "tfidf_vectorizer = TfidfVectorizer(max_features=10000, min_df=10)"
      ],
      "execution_count": null,
      "outputs": []
    },
    {
      "cell_type": "code",
      "metadata": {
        "id": "fvZg76Tqexb4"
      },
      "source": [
        "# y_mul"
      ],
      "execution_count": null,
      "outputs": []
    },
    {
      "cell_type": "code",
      "metadata": {
        "id": "tAhMay-Sexb5"
      },
      "source": [
        "# split the dataset into training and valid test \n",
        "xtrain, xval, ytrain, yval = train_test_split(x, y_mul, test_size=0.2, random_state=9)"
      ],
      "execution_count": null,
      "outputs": []
    },
    {
      "cell_type": "code",
      "metadata": {
        "id": "-yV0OTuKexb5",
        "colab": {
          "base_uri": "https://localhost:8080/"
        },
        "outputId": "131e0c66-ddf3-4f6d-c31e-ef22cf2eabfa"
      },
      "source": [
        "xtrain.shape, xval.shape, ytrain.shape, yval.shape"
      ],
      "execution_count": null,
      "outputs": [
        {
          "output_type": "execute_result",
          "data": {
            "text/plain": [
              "((1273,), (319,), (1273, 73), (319, 73))"
            ]
          },
          "metadata": {},
          "execution_count": 49
        }
      ]
    },
    {
      "cell_type": "code",
      "metadata": {
        "id": "rIH78efC5-5a"
      },
      "source": [
        "import joblib"
      ],
      "execution_count": null,
      "outputs": []
    },
    {
      "cell_type": "code",
      "metadata": {
        "id": "-JkpPYX05rHu",
        "colab": {
          "base_uri": "https://localhost:8080/"
        },
        "outputId": "b58b1d8b-1ca7-4403-f699-10c2450f3b4b"
      },
      "source": [
        "tfidf_vectorizer.fit(xtrain)"
      ],
      "execution_count": null,
      "outputs": [
        {
          "output_type": "execute_result",
          "data": {
            "text/plain": [
              "TfidfVectorizer(max_features=10000, min_df=10)"
            ]
          },
          "metadata": {},
          "execution_count": 51
        }
      ]
    },
    {
      "cell_type": "code",
      "metadata": {
        "id": "Qatc6XzD590F",
        "colab": {
          "base_uri": "https://localhost:8080/"
        },
        "outputId": "56b9265f-fc98-41a0-f507-530084e97b91"
      },
      "source": [
        "joblib.dump(tfidf_vectorizer,'transportation_vectorizer')"
      ],
      "execution_count": null,
      "outputs": [
        {
          "output_type": "execute_result",
          "data": {
            "text/plain": [
              "['transportation_vectorizer']"
            ]
          },
          "metadata": {},
          "execution_count": 104
        }
      ]
    },
    {
      "cell_type": "code",
      "metadata": {
        "id": "sMd53uKAexb6"
      },
      "source": [
        "# create Tf-IDF features\n",
        "xtrain_tfidf = tfidf_vectorizer.fit_transform(xtrain)\n",
        "xval_tfidf = tfidf_vectorizer.transform(xval)"
      ],
      "execution_count": null,
      "outputs": []
    },
    {
      "cell_type": "markdown",
      "metadata": {
        "id": "ldAQeTz6exb6"
      },
      "source": [
        "# model building"
      ]
    },
    {
      "cell_type": "code",
      "metadata": {
        "id": "9vNQauIdexb7"
      },
      "source": [
        "from sklearn.linear_model import LogisticRegression\n",
        "# Binary Relevance\n",
        "from sklearn.multiclass import OneVsRestClassifier\n",
        "# Performance metric\n",
        "from sklearn.metrics import f1_score"
      ],
      "execution_count": null,
      "outputs": []
    },
    {
      "cell_type": "code",
      "metadata": {
        "id": "3Oi1jtoMexb8"
      },
      "source": [
        "lr = LogisticRegression()\n",
        "clf = OneVsRestClassifier(lr)"
      ],
      "execution_count": null,
      "outputs": []
    },
    {
      "cell_type": "code",
      "metadata": {
        "id": "7F7hT444exb8",
        "colab": {
          "base_uri": "https://localhost:8080/"
        },
        "outputId": "39720515-0cf1-4064-cd51-4cffb03d0ce2"
      },
      "source": [
        "# fit the model\n",
        "clf.fit(xtrain_tfidf, ytrain)"
      ],
      "execution_count": null,
      "outputs": [
        {
          "output_type": "execute_result",
          "data": {
            "text/plain": [
              "OneVsRestClassifier(estimator=LogisticRegression())"
            ]
          },
          "metadata": {},
          "execution_count": 56
        }
      ]
    },
    {
      "cell_type": "code",
      "metadata": {
        "id": "5Fsq23Z2exb9"
      },
      "source": [
        "# predict movie geners on the validation set\n",
        "y_pred = clf.predict(xval_tfidf)"
      ],
      "execution_count": null,
      "outputs": []
    },
    {
      "cell_type": "code",
      "metadata": {
        "id": "AZdlBROUexb9",
        "colab": {
          "base_uri": "https://localhost:8080/"
        },
        "outputId": "6442f4cc-e1ef-4b3b-e923-05a7640a0495"
      },
      "source": [
        "y_pred[100]"
      ],
      "execution_count": null,
      "outputs": [
        {
          "output_type": "execute_result",
          "data": {
            "text/plain": [
              "array([0, 0, 0, 0, 0, 0, 0, 0, 0, 0, 0, 0, 0, 0, 0, 0, 0, 0, 0, 0, 0, 0,\n",
              "       0, 0, 0, 0, 0, 0, 0, 0, 0, 0, 0, 0, 0, 0, 0, 0, 0, 0, 0, 0, 0, 0,\n",
              "       0, 0, 0, 0, 0, 0, 0, 0, 0, 0, 0, 0, 0, 0, 0, 0, 0, 0, 0, 0, 0, 0,\n",
              "       0, 0, 0, 0, 0, 0, 0])"
            ]
          },
          "metadata": {},
          "execution_count": 58
        }
      ]
    },
    {
      "cell_type": "code",
      "metadata": {
        "id": "LneNurMYexb-",
        "colab": {
          "base_uri": "https://localhost:8080/"
        },
        "outputId": "43495af7-7dfa-4507-d33a-5296fc6b3e3c"
      },
      "source": [
        "y_pred"
      ],
      "execution_count": null,
      "outputs": [
        {
          "output_type": "execute_result",
          "data": {
            "text/plain": [
              "array([[0, 0, 0, ..., 0, 0, 0],\n",
              "       [0, 0, 0, ..., 0, 0, 0],\n",
              "       [0, 0, 0, ..., 0, 0, 0],\n",
              "       ...,\n",
              "       [0, 0, 0, ..., 0, 0, 0],\n",
              "       [0, 0, 0, ..., 0, 0, 0],\n",
              "       [0, 0, 0, ..., 0, 0, 0]])"
            ]
          },
          "metadata": {},
          "execution_count": 59
        }
      ]
    },
    {
      "cell_type": "code",
      "metadata": {
        "id": "pAYOMrDkexb-",
        "colab": {
          "base_uri": "https://localhost:8080/"
        },
        "outputId": "e2365645-1b97-4e1f-e359-0666067bd6a6"
      },
      "source": [
        "mlb.inverse_transform(y_pred)[3]"
      ],
      "execution_count": null,
      "outputs": [
        {
          "output_type": "execute_result",
          "data": {
            "text/plain": [
              "()"
            ]
          },
          "metadata": {},
          "execution_count": 60
        }
      ]
    },
    {
      "cell_type": "code",
      "metadata": {
        "id": "08lQJSyFexb_",
        "colab": {
          "base_uri": "https://localhost:8080/"
        },
        "outputId": "f962505b-844a-4c38-9cbf-8169703da6a5"
      },
      "source": [
        "# evaluate performance\n",
        "f1_score(yval, y_pred, average=\"micro\")"
      ],
      "execution_count": null,
      "outputs": [
        {
          "output_type": "execute_result",
          "data": {
            "text/plain": [
              "0.20555555555555555"
            ]
          },
          "metadata": {},
          "execution_count": 61
        }
      ]
    },
    {
      "cell_type": "code",
      "metadata": {
        "id": "TeP0RAwuexb_"
      },
      "source": [
        "# predict probabilities\n",
        "y_pred_prob = clf.predict_proba(xval_tfidf)"
      ],
      "execution_count": null,
      "outputs": []
    },
    {
      "cell_type": "code",
      "metadata": {
        "id": "rs7r38LxexcA",
        "colab": {
          "base_uri": "https://localhost:8080/"
        },
        "outputId": "9c131522-f631-4893-ebc2-f306eb2ba914"
      },
      "source": [
        "y_pred_prob[3]"
      ],
      "execution_count": null,
      "outputs": [
        {
          "output_type": "execute_result",
          "data": {
            "text/plain": [
              "array([0.01030581, 0.00905002, 0.01553362, 0.31704668, 0.01765682,\n",
              "       0.05334319, 0.00727343, 0.02099392, 0.00394483, 0.01359878,\n",
              "       0.00961827, 0.0007572 , 0.01180219, 0.00483806, 0.0014225 ,\n",
              "       0.00482209, 0.01438511, 0.00613146, 0.01374327, 0.00475496,\n",
              "       0.00464185, 0.00399543, 0.00759212, 0.00568913, 0.00079073,\n",
              "       0.00147679, 0.00901159, 0.00105443, 0.01412491, 0.01230487,\n",
              "       0.00481169, 0.00145954, 0.00398345, 0.01366839, 0.00802979,\n",
              "       0.00758898, 0.00977795, 0.00786012, 0.01972327, 0.01343912,\n",
              "       0.00651595, 0.00636194, 0.0137988 , 0.01175097, 0.00491086,\n",
              "       0.01198801, 0.01145449, 0.0008364 , 0.01038898, 0.00697087,\n",
              "       0.00654929, 0.0020819 , 0.0079461 , 0.00728516, 0.0430963 ,\n",
              "       0.01609492, 0.02346793, 0.00702795, 0.00199492, 0.00504179,\n",
              "       0.00914846, 0.00074379, 0.00974421, 0.01084714, 0.00374234,\n",
              "       0.0124716 , 0.0182991 , 0.00695979, 0.01749907, 0.01398027,\n",
              "       0.01447155, 0.00716945, 0.00850377])"
            ]
          },
          "metadata": {},
          "execution_count": 63
        }
      ]
    },
    {
      "cell_type": "code",
      "metadata": {
        "id": "LnpF5nQAexcA"
      },
      "source": [
        "t = 0.04 # threshold value\n",
        "y_pred_new = (y_pred_prob >= t).astype(int)"
      ],
      "execution_count": null,
      "outputs": []
    },
    {
      "cell_type": "code",
      "metadata": {
        "id": "3MX15jH_excA",
        "colab": {
          "base_uri": "https://localhost:8080/"
        },
        "outputId": "587133a2-d8b6-4e3a-e344-89e5ce8297fe"
      },
      "source": [
        "# evaluate performance\n",
        "f1_score(yval, y_pred_new, average=\"micro\")"
      ],
      "execution_count": null,
      "outputs": [
        {
          "output_type": "execute_result",
          "data": {
            "text/plain": [
              "0.5650224215246638"
            ]
          },
          "metadata": {},
          "execution_count": 65
        }
      ]
    },
    {
      "cell_type": "markdown",
      "metadata": {
        "id": "kYIYnVpnexcB"
      },
      "source": [
        "## Checking prediction"
      ]
    },
    {
      "cell_type": "code",
      "metadata": {
        "id": "8dr6YHyQexcB"
      },
      "source": [
        "def infer_tags(q):\n",
        "    q = textCleaning(q)\n",
        "    q_vec = tfidf_vectorizer.transform([q])\n",
        "    q_pred = clf.predict(q_vec)\n",
        "    return mlb.inverse_transform(q_pred)"
      ],
      "execution_count": null,
      "outputs": []
    },
    {
      "cell_type": "code",
      "metadata": {
        "id": "qX24kvzmexcC"
      },
      "source": [
        "# infer_tags(df['clean_desc'][50])"
      ],
      "execution_count": null,
      "outputs": []
    },
    {
      "cell_type": "code",
      "metadata": {
        "id": "oFjElkApexcC"
      },
      "source": [
        ""
      ],
      "execution_count": null,
      "outputs": []
    },
    {
      "cell_type": "markdown",
      "metadata": {
        "id": "ijC1jFnrexcD"
      },
      "source": [
        "# try with some new models"
      ]
    },
    {
      "cell_type": "code",
      "metadata": {
        "id": "UBU7RhM_excD"
      },
      "source": [
        "from sklearn.svm import SVC"
      ],
      "execution_count": null,
      "outputs": []
    },
    {
      "cell_type": "code",
      "metadata": {
        "id": "S3Z2pLYqexcE"
      },
      "source": [
        "svc = SVC(kernel='rbf', C=1e9, gamma=1e-07, probability=True)\n",
        "svm_clf = OneVsRestClassifier(svc)"
      ],
      "execution_count": null,
      "outputs": []
    },
    {
      "cell_type": "code",
      "metadata": {
        "id": "OHnqjwq0excE",
        "colab": {
          "base_uri": "https://localhost:8080/"
        },
        "outputId": "7943e868-16c0-4dc6-ad5c-0c6375a5a05c"
      },
      "source": [
        "svm_clf.fit(xtrain_tfidf, ytrain)"
      ],
      "execution_count": null,
      "outputs": [
        {
          "output_type": "execute_result",
          "data": {
            "text/plain": [
              "OneVsRestClassifier(estimator=SVC(C=1000000000.0, gamma=1e-07,\n",
              "                                  probability=True))"
            ]
          },
          "metadata": {},
          "execution_count": 70
        }
      ]
    },
    {
      "cell_type": "code",
      "metadata": {
        "id": "m4LtfGTE6gC7",
        "colab": {
          "base_uri": "https://localhost:8080/"
        },
        "outputId": "9bca5774-3def-43ec-b276-62a54fe00019"
      },
      "source": [
        "joblib.dump(svm_clf,'transportation_model')"
      ],
      "execution_count": null,
      "outputs": [
        {
          "output_type": "execute_result",
          "data": {
            "text/plain": [
              "['transportation_model']"
            ]
          },
          "metadata": {},
          "execution_count": 107
        }
      ]
    },
    {
      "cell_type": "code",
      "metadata": {
        "id": "Ezc-p5efexcF"
      },
      "source": [
        "# saving the model\n",
        "\n",
        "import pickle\n",
        "filename = 'svm_model.sav'\n",
        "pickle.dump(svm_clf, open(filename, 'wb'))"
      ],
      "execution_count": null,
      "outputs": []
    },
    {
      "cell_type": "code",
      "metadata": {
        "id": "9aG71ROHexcF"
      },
      "source": [
        "loaded_model = pickle.load(open(filename, 'rb'))"
      ],
      "execution_count": null,
      "outputs": []
    },
    {
      "cell_type": "code",
      "metadata": {
        "id": "uFj4lGJxexcF"
      },
      "source": [
        "svm_pred = loaded_model.predict(xval_tfidf)"
      ],
      "execution_count": null,
      "outputs": []
    },
    {
      "cell_type": "code",
      "metadata": {
        "id": "S7re_XAcexcG",
        "colab": {
          "base_uri": "https://localhost:8080/"
        },
        "outputId": "28fd2671-9243-480d-fcbc-910d08c93210"
      },
      "source": [
        "svm_pred[100]"
      ],
      "execution_count": null,
      "outputs": [
        {
          "output_type": "execute_result",
          "data": {
            "text/plain": [
              "array([0, 0, 0, 0, 0, 0, 0, 0, 0, 0, 1, 0, 0, 0, 0, 0, 0, 0, 0, 0, 0, 0,\n",
              "       0, 0, 0, 0, 0, 0, 1, 0, 0, 0, 0, 0, 0, 0, 0, 0, 0, 0, 0, 0, 0, 0,\n",
              "       0, 0, 0, 0, 0, 0, 0, 0, 0, 1, 0, 0, 0, 0, 0, 0, 0, 0, 0, 0, 0, 0,\n",
              "       0, 0, 0, 0, 0, 0, 0])"
            ]
          },
          "metadata": {},
          "execution_count": 75
        }
      ]
    },
    {
      "cell_type": "code",
      "metadata": {
        "id": "GTyXAqLCexcQ",
        "colab": {
          "base_uri": "https://localhost:8080/"
        },
        "outputId": "d44b3fc0-f96e-43ec-888d-249c985a6900"
      },
      "source": [
        "svm_pred[30]"
      ],
      "execution_count": null,
      "outputs": [
        {
          "output_type": "execute_result",
          "data": {
            "text/plain": [
              "array([0, 0, 0, 0, 0, 0, 0, 0, 0, 0, 0, 0, 0, 0, 0, 0, 0, 0, 0, 0, 0, 0,\n",
              "       0, 0, 0, 0, 0, 0, 0, 0, 0, 0, 0, 0, 0, 0, 0, 0, 0, 0, 0, 0, 0, 0,\n",
              "       0, 1, 0, 0, 0, 0, 0, 0, 0, 0, 0, 0, 0, 0, 0, 0, 0, 0, 0, 0, 0, 0,\n",
              "       0, 0, 0, 1, 0, 0, 0])"
            ]
          },
          "metadata": {},
          "execution_count": 76
        }
      ]
    },
    {
      "cell_type": "code",
      "metadata": {
        "id": "qQ_6i2oVexcR",
        "colab": {
          "base_uri": "https://localhost:8080/"
        },
        "outputId": "81fa8a60-bc86-43cd-f49e-09a015014a8d"
      },
      "source": [
        "# evaluate performance\n",
        "f1_score(yval, svm_pred, average=\"micro\")"
      ],
      "execution_count": null,
      "outputs": [
        {
          "output_type": "execute_result",
          "data": {
            "text/plain": [
              "0.24232456140350875"
            ]
          },
          "metadata": {},
          "execution_count": 77
        }
      ]
    },
    {
      "cell_type": "code",
      "metadata": {
        "id": "lp19FH9sexcR"
      },
      "source": [
        "# predict probabilities\n",
        "# svm_y_pred_prob = svm_clf.predict_proba(xval_tfidf)\n",
        "svm_y_pred_prob = svm_clf.predict_proba(xval_tfidf)"
      ],
      "execution_count": null,
      "outputs": []
    },
    {
      "cell_type": "code",
      "metadata": {
        "id": "L1agMNfsexcS",
        "colab": {
          "base_uri": "https://localhost:8080/"
        },
        "outputId": "d0331f1f-ec86-4865-e29b-3e4ed3a805ed"
      },
      "source": [
        "svm_y_pred_prob[30]"
      ],
      "execution_count": null,
      "outputs": [
        {
          "output_type": "execute_result",
          "data": {
            "text/plain": [
              "array([2.78698312e-03, 6.09251475e-02, 2.25528818e-02, 7.46940460e-04,\n",
              "       1.32322866e-03, 1.76709312e-02, 1.30254459e-05, 3.61917018e-04,\n",
              "       3.93064682e-05, 2.11456654e-04, 1.36472136e-02, 6.96820870e-04,\n",
              "       2.38821689e-05, 2.37509080e-03, 1.29361313e-04, 3.83676266e-03,\n",
              "       2.15046324e-02, 4.72510541e-03, 2.03002860e-03, 1.13023632e-04,\n",
              "       2.93712529e-04, 4.80444979e-03, 1.58418221e-07, 1.72649013e-02,\n",
              "       1.04244485e-03, 1.35888119e-03, 1.00002285e-02, 5.77127732e-04,\n",
              "       6.20977118e-04, 2.21781857e-06, 4.25015676e-04, 4.47351267e-04,\n",
              "       1.25496046e-03, 1.04108661e-02, 1.14535917e-06, 9.46577605e-04,\n",
              "       3.08232634e-04, 1.27767220e-03, 3.79550495e-03, 5.71753706e-04,\n",
              "       1.83046447e-03, 1.94492450e-04, 1.81024063e-02, 1.20744406e-03,\n",
              "       1.21703914e-04, 1.95618383e-02, 5.85637929e-04, 7.63584089e-04,\n",
              "       2.75454863e-03, 1.28464975e-03, 1.53137840e-03, 2.46948043e-03,\n",
              "       4.49525736e-04, 4.17229374e-03, 5.37443222e-03, 1.47995931e-02,\n",
              "       5.40604343e-03, 4.12256635e-04, 5.83472733e-04, 6.08902031e-03,\n",
              "       3.07602709e-03, 9.34203046e-04, 2.30894249e-04, 2.26754681e-02,\n",
              "       2.69889099e-03, 1.48184455e-03, 1.36258174e-03, 6.19309517e-04,\n",
              "       3.22361528e-03, 1.00000000e+00, 2.79838786e-03, 2.12120070e-04,\n",
              "       7.83440513e-03])"
            ]
          },
          "metadata": {},
          "execution_count": 79
        }
      ]
    },
    {
      "cell_type": "code",
      "metadata": {
        "id": "F-Ei44p6excT"
      },
      "source": [
        "def infer_tags_svm(q):\n",
        "    q = textCleaning(q)\n",
        "    q_vec = tfidf_vectorizer.transform([q])\n",
        "    q_pred = loaded_model.predict(q_vec)\n",
        "    return mlb.inverse_transform(q_pred)"
      ],
      "execution_count": null,
      "outputs": []
    },
    {
      "cell_type": "code",
      "metadata": {
        "id": "NmOcac_0excT",
        "colab": {
          "base_uri": "https://localhost:8080/"
        },
        "outputId": "0827fb93-44a9-4bf1-d6d5-e651c1284737"
      },
      "source": [
        "infer_tags_svm(df['clean_desc_title'][100])"
      ],
      "execution_count": null,
      "outputs": [
        {
          "output_type": "execute_result",
          "data": {
            "text/plain": [
              "[('Emergency Medical Technician',\n",
              "  'Packer',\n",
              "  'Parcel Truck Driver',\n",
              "  'Taxi Driver',\n",
              "  'Tractor Operator')]"
            ]
          },
          "metadata": {},
          "execution_count": 81
        }
      ]
    },
    {
      "cell_type": "code",
      "metadata": {
        "id": "C3yy6Fi4excU",
        "colab": {
          "base_uri": "https://localhost:8080/"
        },
        "outputId": "96e573e8-8f0e-4662-f2b8-034c208cad1d"
      },
      "source": [
        "infer_tags_svm(df['clean_desc_title'][50])"
      ],
      "execution_count": null,
      "outputs": [
        {
          "output_type": "execute_result",
          "data": {
            "text/plain": [
              "[('Automotive Specialty Technician',\n",
              "  'Cement Truck Driver ',\n",
              "  'Emergency Medical Technician',\n",
              "  'Packer',\n",
              "  'Parcel Truck Driver',\n",
              "  'Recreational Vehicle Service Technician',\n",
              "  'Tractor Operator')]"
            ]
          },
          "metadata": {},
          "execution_count": 82
        }
      ]
    },
    {
      "cell_type": "code",
      "metadata": {
        "id": "5xrvmo2zexcU"
      },
      "source": [
        "# infer_tags_svm(df['clean_desc'][17])"
      ],
      "execution_count": null,
      "outputs": []
    },
    {
      "cell_type": "code",
      "metadata": {
        "id": "xO5-lNBDexcU"
      },
      "source": [
        "text = \"\"\"\n",
        "Pay: $76,000-$90,000 annually, 25% of load revenue to start, increases yearly\n",
        "\n",
        "Family/home time: Every weekend\n",
        "\n",
        "Experience: Valid Class A Commercial Driver's License (CDL) + 6 months experience on the road\n",
        "\n",
        "Driving area: (Mainly) Southeastern USA\n",
        "\n",
        "Job Description:\n",
        "\n",
        "Freedom Trans Dedicated is hiring a regional flatbed trailer truck driver to pick up and deliver on a multi-stop route for a dedicated Customer.\n",
        "\n",
        "Benefits\n",
        "• $5,000 limited-time transition bonus\n",
        "• Health, dental, and vision insurance benefits after 90 days\n",
        "• Life insurance and 401k\n",
        "• Elite pass\n",
        "• Late-model equipment with APU's, inverters, EpicVue TVs, and refrigerators\n",
        "• Safety bonuses and monthly mileage bonuses\n",
        "• Rider and pet policy available\n",
        "• Elite pass\n",
        "• Family/home time every weekend\n",
        "• Paid orientation\n",
        "• Unlimited $2,000 referral bonus potential\n",
        "\n",
        "Qualifications/Skills\n",
        "• Acceptable safety record concerning preventable accidents, traffic violations, and roadside inspections\n",
        "• No serious violations or accidents\n",
        "• Stable work history\n",
        "• No drug or alcohol issues\n",
        "• Friendly, reliable, courteous, honest, and patient\n",
        "• Good decision maker\n",
        "• Safety minded\n",
        "\n",
        "Apply Now: Regional Flatbed Truck Driver-$5,000 Transition Bonus\n",
        "\n",
        "For more information, call 888-FTD-PAYS\n",
        "\n",
        "About Freedom Trans Dedicated\n",
        "\n",
        "Freedom Trans Dedicated is a family-oriented asset-based logistics company providing fantastic career opportunities in the transportation industry. If you are a driven, detail-oriented individual with high goals for success, Freedom Trans Dedicated is the place for you! Our company provides room for exponential growth and compensation. We do our best to accommodate our driver’s schedules whenever possible. We maintain a state-of-the-art fleet comprised of all truck and trailer combinations\n",
        "\"\"\""
      ],
      "execution_count": null,
      "outputs": []
    },
    {
      "cell_type": "code",
      "metadata": {
        "id": "N_7jSFEyexcX"
      },
      "source": [
        "text1 = \"\"\"\n",
        "Brambles companies, including CHEP, help move more goods to more people, in more places than any other organisation on earth. Our 330 million pallets, crates and containers are continuously in motion, forming the invisible backbone of the global supply chain and the world’s biggest brands trust us to help them transport their goods more efficiently, sustainably and safely. As pioneers of the sharing economy, Brambles created one of the world's most sustainable logistics businesses through the share and reuse of its platforms under a model known as ‘pooling’. Brambles primarily serves the fast-moving consumer goods (e.g. dry food, grocery, and health and personal care), fresh produce, beverage, retail and general manufacturing industries. The Group employs more than 10,000 people and operates in over 60 countries with its largest operations in North America and Western Europe. For further information, please visit www.brambles.com.\n",
        "\n",
        "Job Description\n",
        "\n",
        "Description\n",
        "\n",
        "Position Purpose\n",
        "\n",
        "The Logistics Coordinator, LC, position will be responsible for planning and delivery roughly 100 shipments/week both inbound and outbound from our North America supply chain network. The LC will sit within a team of 4 total coordinators, each with regional responsibility. The LC will work closely with transportation, planning, and operations providers to achieving customer expectations of on time delivery.\n",
        "\n",
        "Scope\n",
        "• Weekly/Monthly reporting of key metrics\n",
        "• Execution of customer order request for inbound and outbound territory\n",
        "• Management of inventory levels in assigned region, supporting rest of network\n",
        "• Work closely with transportation providers to secure freight and deliver on time, both truck load, LTL, intermodal, and limited ocean going freight as needed\n",
        "• Develop and deliver new cost out initiatives, working with internal teams, LCs, and Log MGR\n",
        "• Support LCs as backup solution to help cover PTO and assist in times of increased workload\n",
        "• Position will have a dynamic element, where ask and deliverables can change to support the business\n",
        "\n",
        "Major/Key Accountabilities\n",
        "• Plan all loads inbound and outbound in assigned region\n",
        "• Work with transportation network to tender loads for on time deliver and pick up\n",
        "• Manage inventory levels at assigned plant, to delivery on time to our customers\n",
        "• Ability to operate in a high paced organization and effectively achieve solutions to challenging problems. CHEP environment requires ability to work with other groups to negotiate support and mutual progress towards a goal, but the ability to elevate the issue and or demand results when appropriate progress is not being achieved\n",
        "• Ability to accept rapidly changing priorities, drop everything to refocus on a new goal, but the determination and persistence to return again to difficult projects when the new challenge has passed. Strong time management, organization, prioritization and self-directed drive a must\n",
        "• High levels of energy, enthusiasm, and esprit de corps a must. Must be able to motivate the team and self when extremely challenging results are demanded with limited support, systems or infrastructure\n",
        "\n",
        "Measures\n",
        "• On Time Performance\n",
        "• Mapping Compliance\n",
        "• Cost per container, issues, collections, & transfers\n",
        "• Routing guide and spot market transportation procurement %s and over benchmark\n",
        "\n",
        "Authority/ Decision Making\n",
        "• Recommend and implement cost savings solutions\n",
        "• Approve real time freight quotes\n",
        "\n",
        "Key contacts\n",
        "\n",
        "Internal:\n",
        "• Logistics, Operations, Quality, Customer sales/service, & Finance, Voice of the Customer\n",
        "\n",
        "External:\n",
        "• Carrier Base, 3PL Management Groups at Service Centers\n",
        "\n",
        "Qualifications\n",
        "\n",
        "Essential\n",
        "• Positive attitude with amplitude to learn\n",
        "• Excellent communication skills both verbal and written\n",
        "• Organizational skills\n",
        "• Proficiency in Excel\n",
        "• Ability to teach others\n",
        "• Bachelor’s Degree in related field or 2+ years of relevant experience\n",
        "\n",
        "Desirable\n",
        "• Experience in the following areas:\n",
        "• SAP\n",
        "• Access\n",
        "• Excel\n",
        "• BluJay or similar Transportation Management System\n",
        "• Sales Force\n",
        "\n",
        "Experience\n",
        "• Bachelor’s degree in a business or technical field preferred\n",
        "• 2+ years’ experience in Transportation, Logistics, or Supply Chain\n",
        "\n",
        "Skills and Knowledge\n",
        "• Ability to work analytically inside of large data sets to find insights to drive solutions and cost out\n",
        "• Develops positive relationship with third party providers, and ensures consistent achievement of expectation/ requirements\n",
        "• General knowledge of the transportation industry\n",
        "\n",
        "Languages\n",
        "\n",
        "Essential:\n",
        "• English\n",
        "\n",
        "Desirable:\n",
        "• Spanish\n",
        "\n",
        "Preferred Education\n",
        "\n",
        "Bachelors\n",
        "\n",
        "Preferred Level of Work Experience\n",
        "\n",
        "1 - 3 years\n",
        "\n",
        "We are an Equal Opportunity Employer and we are committed to developing a diverse workforce in which everyone is treated fairly, with respect, and has the opportunity to contribute to business success while realizing his or her potential. This means harnessing the unique skills and experience that each individual brings and we do not discriminate against any employee or applicant for employment because of race, color, sex, age, national origin, religion, sexual orientation, gender identity, status as a veteran, and basis of disability or any other federal, state, or local protected class.\n",
        "\n",
        "Individuals fraudulently misrepresenting themselves as Brambles or CHEP representatives have scheduled interviews and offered fraudulent employment opportunities with the intent to commit identity theft or solicit money. Brambles and CHEP never conduct interviews via online chat or request money as a term of employment. If you have a question as to the legitimacy of an interview or job offer, please contact us at recruitment@brambles.com\n",
        "\"\"\""
      ],
      "execution_count": null,
      "outputs": []
    },
    {
      "cell_type": "code",
      "metadata": {
        "id": "s1VLgcAjexcZ"
      },
      "source": [
        "# infer_tags_svm(text1)"
      ],
      "execution_count": null,
      "outputs": []
    },
    {
      "cell_type": "code",
      "metadata": {
        "id": "G2WRncselgx6",
        "colab": {
          "base_uri": "https://localhost:8080/"
        },
        "outputId": "725ff47e-12b6-4715-ce46-04979d2b1305"
      },
      "source": [
        "df.columns"
      ],
      "execution_count": null,
      "outputs": [
        {
          "output_type": "execute_result",
          "data": {
            "text/plain": [
              "Index(['job_roles', 'title', 'desc', 'desc_title', 'clean_desc_title'], dtype='object')"
            ]
          },
          "metadata": {},
          "execution_count": 87
        }
      ]
    },
    {
      "cell_type": "code",
      "metadata": {
        "id": "cH1RqxAYexca"
      },
      "source": [
        "giving_data = df.copy()"
      ],
      "execution_count": null,
      "outputs": []
    },
    {
      "cell_type": "code",
      "metadata": {
        "id": "dDbX-uA5lt5T",
        "colab": {
          "base_uri": "https://localhost:8080/"
        },
        "outputId": "b1e1d559-a57d-4cda-8dbc-fec1fc320fd2"
      },
      "source": [
        "giving_data.columns"
      ],
      "execution_count": null,
      "outputs": [
        {
          "output_type": "execute_result",
          "data": {
            "text/plain": [
              "Index(['job_roles', 'title', 'desc', 'desc_title', 'clean_desc_title'], dtype='object')"
            ]
          },
          "metadata": {},
          "execution_count": 89
        }
      ]
    },
    {
      "cell_type": "code",
      "metadata": {
        "id": "ldiGPhodexcb",
        "colab": {
          "base_uri": "https://localhost:8080/"
        },
        "outputId": "c6d0cc5c-5887-4e4d-cbbf-1abf96f4101d"
      },
      "source": [
        "giv = giving_data.sample(frac=0.1).reset_index()\n",
        "giv.shape"
      ],
      "execution_count": null,
      "outputs": [
        {
          "output_type": "execute_result",
          "data": {
            "text/plain": [
              "(159, 6)"
            ]
          },
          "metadata": {},
          "execution_count": 90
        }
      ]
    },
    {
      "cell_type": "code",
      "metadata": {
        "id": "k2SfxUNmexcc"
      },
      "source": [
        "giv = giv[['title','clean_desc_title']]"
      ],
      "execution_count": null,
      "outputs": []
    },
    {
      "cell_type": "code",
      "metadata": {
        "id": "i1SnhAEUexcd"
      },
      "source": [
        "giv['predicted_roles'] = giv['clean_desc_title'].apply(lambda x: infer_tags_svm(x))"
      ],
      "execution_count": null,
      "outputs": []
    },
    {
      "cell_type": "code",
      "metadata": {
        "id": "YEO23qqWexcd",
        "colab": {
          "base_uri": "https://localhost:8080/",
          "height": 206
        },
        "outputId": "6153b2c3-6219-419e-c358-2c912045f68c"
      },
      "source": [
        "giv.head()"
      ],
      "execution_count": null,
      "outputs": [
        {
          "output_type": "execute_result",
          "data": {
            "text/html": [
              "<div>\n",
              "<style scoped>\n",
              "    .dataframe tbody tr th:only-of-type {\n",
              "        vertical-align: middle;\n",
              "    }\n",
              "\n",
              "    .dataframe tbody tr th {\n",
              "        vertical-align: top;\n",
              "    }\n",
              "\n",
              "    .dataframe thead th {\n",
              "        text-align: right;\n",
              "    }\n",
              "</style>\n",
              "<table border=\"1\" class=\"dataframe\">\n",
              "  <thead>\n",
              "    <tr style=\"text-align: right;\">\n",
              "      <th></th>\n",
              "      <th>title</th>\n",
              "      <th>clean_desc_title</th>\n",
              "      <th>predicted_roles</th>\n",
              "    </tr>\n",
              "  </thead>\n",
              "  <tbody>\n",
              "    <tr>\n",
              "      <th>0</th>\n",
              "      <td>Tractor Trailer Driver</td>\n",
              "      <td>commercial driver license class a tanker endor...</td>\n",
              "      <td>[(Emergency Medical Technician, Packer, Tracto...</td>\n",
              "    </tr>\n",
              "    <tr>\n",
              "      <th>1</th>\n",
              "      <td>Senior Logistics Analyst</td>\n",
              "      <td>partner external suppliers vendors transportat...</td>\n",
              "      <td>[(Logistics Analyst, Packer)]</td>\n",
              "    </tr>\n",
              "    <tr>\n",
              "      <th>2</th>\n",
              "      <td>RV Customer Service Technician</td>\n",
              "      <td>inspect rvs prior check w customers document o...</td>\n",
              "      <td>[(Aircraft Service Attendant, Automotive Speci...</td>\n",
              "    </tr>\n",
              "    <tr>\n",
              "      <th>3</th>\n",
              "      <td>Aircraft Inspector Dothan</td>\n",
              "      <td>maintain proficiency various inspection aides ...</td>\n",
              "      <td>[(Aircraft Inspector , Attendant , Motor Vehic...</td>\n",
              "    </tr>\n",
              "    <tr>\n",
              "      <th>4</th>\n",
              "      <td>Emissions Inspector</td>\n",
              "      <td>ability manage cash non cash payments great te...</td>\n",
              "      <td>[(Aircraft Inspector , Aircraft Service Attend...</td>\n",
              "    </tr>\n",
              "  </tbody>\n",
              "</table>\n",
              "</div>"
            ],
            "text/plain": [
              "                            title  ...                                    predicted_roles\n",
              "0          Tractor Trailer Driver  ...  [(Emergency Medical Technician, Packer, Tracto...\n",
              "1        Senior Logistics Analyst  ...                      [(Logistics Analyst, Packer)]\n",
              "2  RV Customer Service Technician  ...  [(Aircraft Service Attendant, Automotive Speci...\n",
              "3       Aircraft Inspector Dothan  ...  [(Aircraft Inspector , Attendant , Motor Vehic...\n",
              "4             Emissions Inspector  ...  [(Aircraft Inspector , Aircraft Service Attend...\n",
              "\n",
              "[5 rows x 3 columns]"
            ]
          },
          "metadata": {},
          "execution_count": 93
        }
      ]
    },
    {
      "cell_type": "code",
      "metadata": {
        "id": "TfLez7Zoexce"
      },
      "source": [
        "# giv = giv[giv['clean_desc'] != \"no information found\"]"
      ],
      "execution_count": null,
      "outputs": []
    },
    {
      "cell_type": "code",
      "metadata": {
        "id": "lVh3gKASexcf"
      },
      "source": [
        "giv.to_csv(\"output_job_roles.csv\", index=False)"
      ],
      "execution_count": null,
      "outputs": []
    },
    {
      "cell_type": "markdown",
      "metadata": {
        "id": "kfvzEHWk7jhz"
      },
      "source": [
        "**experimenting**"
      ]
    },
    {
      "cell_type": "code",
      "metadata": {
        "id": "EIP5J07Aexcg"
      },
      "source": [
        "loaded_vectorizer = joblib.load('transportation_vectorizer')\n"
      ],
      "execution_count": null,
      "outputs": []
    },
    {
      "cell_type": "code",
      "metadata": {
        "id": "mob1L9Xa7WN6"
      },
      "source": [
        "loaded_new_model = joblib.load('transportation_model')"
      ],
      "execution_count": null,
      "outputs": []
    },
    {
      "cell_type": "code",
      "metadata": {
        "id": "QEC0ijvN_K5F"
      },
      "source": [
        "loaded_class = joblib.load('transportation_class')"
      ],
      "execution_count": null,
      "outputs": []
    },
    {
      "cell_type": "code",
      "metadata": {
        "id": "ijdrlSn47t9D"
      },
      "source": [
        "def infer_tags_new(q):\n",
        "    q = textCleaning(q)\n",
        "    q_vec = loaded_vectorizer.transform([q])\n",
        "    q_pred = loaded_new_model.predict(q_vec)\n",
        "    return loaded_class.inverse_transform(q_pred)"
      ],
      "execution_count": null,
      "outputs": []
    },
    {
      "cell_type": "code",
      "metadata": {
        "id": "_F_F-FVb7-j4",
        "colab": {
          "base_uri": "https://localhost:8080/"
        },
        "outputId": "9c80266c-c0f5-4bc2-e923-1ede312a356b"
      },
      "source": [
        "infer_tags_new(df['clean_desc_title'][100])"
      ],
      "execution_count": null,
      "outputs": [
        {
          "output_type": "execute_result",
          "data": {
            "text/plain": [
              "[('Emergency Medical Technician',\n",
              "  'Packer',\n",
              "  'Parcel Truck Driver',\n",
              "  'Taxi Driver',\n",
              "  'Tractor Operator')]"
            ]
          },
          "metadata": {},
          "execution_count": 112
        }
      ]
    }
  ]
}